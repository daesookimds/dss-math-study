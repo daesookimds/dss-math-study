{
 "cells": [
  {
   "cell_type": "markdown",
   "metadata": {},
   "source": [
    "## 1.6  Inverse & Transpose"
   ]
  },
  {
   "cell_type": "markdown",
   "metadata": {},
   "source": [
    "#### Inverse (역행렬)\n",
    "\n",
    "- A * invA = invA * A = I (교환법칙이 성립해야 한다)\n",
    "- not all A has its inverse\n",
    "- det(A) != 0 이어야 역행렬이 존재한다."
   ]
  },
  {
   "cell_type": "markdown",
   "metadata": {},
   "source": [
    "#### (1) The inverse (invA) exists iff(if and only if) elimination(G.E) produces n(diagonal elements) pivots\n",
    "\n",
    "- G.E(A) = U >>> invL * A = U >>>  A = L * U\n",
    "- invL = E32E31E21\n",
    "- [det(A) != 0] == product of all diagonal elements"
   ]
  },
  {
   "cell_type": "markdown",
   "metadata": {},
   "source": [
    "#### (2) The inverse is Unique!\n",
    "\n",
    "- prof) invA = B, invA = C\n",
    "- (B*A)*C = B*(A*C)\n",
    "- C = B"
   ]
  },
  {
   "cell_type": "markdown",
   "metadata": {},
   "source": [
    "#### (3) If invA exists, x is Unique!\n",
    "\n",
    "- Ax = b\n",
    "- invA*A*x = invA*b\n",
    "- x와 b는 A라는 함수 안에서 일대일 대응관계를 유지한다."
   ]
  },
  {
   "cell_type": "markdown",
   "metadata": {},
   "source": [
    "#### (4) Assume that there is a non-zero vector x such that\n",
    "\n",
    "- Ax = 0 (b=0)\n",
    "- x = 0 (trivial solution)\n",
    "- invA*0 = x = 0\n",
    "- then, invA does not exist, 위 조건을 만족하려면 역행렬이 존재하면 안된다."
   ]
  },
  {
   "cell_type": "markdown",
   "metadata": {},
   "source": [
    "#### (5) 2 * 2 행렬 determinant 식"
   ]
  },
  {
   "cell_type": "code",
   "execution_count": 2,
   "metadata": {},
   "outputs": [
    {
     "data": {
      "text/plain": [
       "array([[1, 2],\n",
       "       [3, 4]])"
      ]
     },
     "execution_count": 2,
     "metadata": {},
     "output_type": "execute_result"
    }
   ],
   "source": [
    "import numpy as np\n",
    "\n",
    "a = 1\n",
    "b = 2\n",
    "c = 3\n",
    "d = 4\n",
    "\n",
    "A = np.array([[a, b],[c, d]])\n",
    "A"
   ]
  },
  {
   "cell_type": "code",
   "execution_count": 5,
   "metadata": {},
   "outputs": [
    {
     "data": {
      "text/plain": [
       "-2"
      ]
     },
     "execution_count": 5,
     "metadata": {},
     "output_type": "execute_result"
    }
   ],
   "source": [
    "detA = (a*d) - (b*c)\n",
    "detA"
   ]
  },
  {
   "cell_type": "markdown",
   "metadata": {},
   "source": [
    "#### (6) Diagonal Matrix\n",
    "\n",
    "- 대각 성분 di가 모두 0이 아니어야 한다.\n",
    "- 대각 행렬의 역행렬은 대각성분을 모두 역수 취한 행렬과 같다."
   ]
  },
  {
   "cell_type": "markdown",
   "metadata": {},
   "source": [
    "#### (7) The inverse comes in the reverse order\n",
    "\n",
    "- inv(A*B*C) = invC*invB*invC"
   ]
  },
  {
   "cell_type": "markdown",
   "metadata": {},
   "source": [
    "### Gauss - Jordan Method\n",
    "\n",
    "- Ax = b\n",
    "\n",
    "- AB = A[b1, b2, ... , bn] = [Ab1, Ab2, ... , Abn]\n",
    "- A * invA = I, invA = [x1, x2, ... , xn]\n",
    "- [Ax1, Ax2, ... , Axn] = I matrix\n",
    "\n",
    "```즉, Ax1 = [1, 0, 0, ... ,0]\n",
    "    Ax2 = [0, 1, 0, ... ,0]\n",
    "    Axn = [0, 0, 0, ... ,1]\n",
    "    가우스 소거법을 사용하면 역행렬을 구하는 과정\n",
    "    ```"
   ]
  },
  {
   "cell_type": "markdown",
   "metadata": {},
   "source": [
    "- G.E(A) = U\n",
    "- E32E31E21A = U, E32E31E21 = invL\n",
    "- invL * A = U\n",
    "```\n",
    " A * invA = I\n",
    " U * invA = invL * I\n",
    " invU * U * invA = invU * invL * I\n",
    " invA = invU * invL * I\n",
    "```"
   ]
  },
  {
   "cell_type": "markdown",
   "metadata": {},
   "source": [
    "#### Transpose"
   ]
  },
  {
   "cell_type": "code",
   "execution_count": 6,
   "metadata": {},
   "outputs": [
    {
     "data": {
      "text/plain": [
       "array([[1, 2, 3],\n",
       "       [4, 5, 6],\n",
       "       [7, 8, 9]])"
      ]
     },
     "execution_count": 6,
     "metadata": {},
     "output_type": "execute_result"
    }
   ],
   "source": [
    "A = np.array([[1, 2, 3],[4, 5, 6],[7, 8, 9]])\n",
    "A"
   ]
  },
  {
   "cell_type": "code",
   "execution_count": 7,
   "metadata": {},
   "outputs": [
    {
     "data": {
      "text/plain": [
       "array([[1, 4, 7],\n",
       "       [2, 5, 8],\n",
       "       [3, 6, 9]])"
      ]
     },
     "execution_count": 7,
     "metadata": {},
     "output_type": "execute_result"
    }
   ],
   "source": [
    "A.T"
   ]
  },
  {
   "cell_type": "code",
   "execution_count": 10,
   "metadata": {},
   "outputs": [
    {
     "data": {
      "text/plain": [
       "array([[1, 2, 3],\n",
       "       [4, 5, 6]])"
      ]
     },
     "execution_count": 10,
     "metadata": {},
     "output_type": "execute_result"
    }
   ],
   "source": [
    "A2 = np.array([[1, 2, 3],[4, 5, 6]])\n",
    "A2"
   ]
  },
  {
   "cell_type": "code",
   "execution_count": 11,
   "metadata": {},
   "outputs": [
    {
     "data": {
      "text/plain": [
       "array([[1, 4],\n",
       "       [2, 5],\n",
       "       [3, 6]])"
      ]
     },
     "execution_count": 11,
     "metadata": {},
     "output_type": "execute_result"
    }
   ],
   "source": [
    "A2.T"
   ]
  },
  {
   "cell_type": "markdown",
   "metadata": {},
   "source": [
    "- (A + B).T = A.T + B.T\n",
    "- (A*B).T = B.T * A.T\n",
    "- invA.T = inv(A.T)"
   ]
  },
  {
   "cell_type": "markdown",
   "metadata": {},
   "source": [
    "#### Symmetric Matrix\n",
    "\n",
    "- square Matrix\n",
    "- A.T = A\n",
    "- if A is symmetric and invertible then, invA is too.\n",
    "- (invA).T = invA\n",
    "\n",
    "```\n",
    "A = L*U = L*D(diagonal Matrix)*U\n",
    "invA = A\n",
    "L * D * U = U.T * D * L.T\n",
    "```"
   ]
  },
  {
   "cell_type": "markdown",
   "metadata": {},
   "source": [
    "#### Correlation Matrix(R)\n",
    "\n",
    "- R = A.T * A\n",
    "- R.T = R\n",
    "- 벡터들이 어떤 상관관계인지 알게 해주는 연산"
   ]
  }
 ],
 "metadata": {
  "kernelspec": {
   "display_name": "Python 3",
   "language": "python",
   "name": "python3"
  },
  "language_info": {
   "codemirror_mode": {
    "name": "ipython",
    "version": 3
   },
   "file_extension": ".py",
   "mimetype": "text/x-python",
   "name": "python",
   "nbconvert_exporter": "python",
   "pygments_lexer": "ipython3",
   "version": "3.6.4"
  }
 },
 "nbformat": 4,
 "nbformat_minor": 2
}
