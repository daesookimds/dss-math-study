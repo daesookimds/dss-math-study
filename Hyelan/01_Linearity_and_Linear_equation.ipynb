{
 "cells": [
  {
   "cell_type": "markdown",
   "metadata": {},
   "source": [
    "## 01강. 선형성 정의 및 1차 연립방정식 의미\n",
    "\n",
    "\n",
    "### 00. Linearity 선형성\n",
    "\n",
    "- - -\n",
    "\n",
    "- Linearity 행렬로 표현되는 것이 기본적으로 선형성을 만족해야 함\n",
    "    - $f(x)$, x라는 변수에 대해서 function/operation 을 가지느냐\n",
    "    \n",
    "- 조건 2가지를 만족할 때 Linearity 성립\n",
    "    - Superposition(중첩의 원리) : $f(x_{1}+x_{2}) = f(x_{1}) + f(x_{2})$\n",
    "    - Homogeniety $f(ax) = af(x)$ , a는 constant \n",
    "    - $f(a_{1}x_{1}+a_{2}x_{2})=a_{1}f(x_{1})+a_{2}f(x_{2})$ : 이 조건을 만족할 때 선형성이 있다고 함, 이런 것들 선형대수에서 다룬다.\n",
    "\n",
    "- $ y = mx = f(x) $ : 위 두 조건을 만족하며 linear 하다\n",
    "- $ y = mx + n $ : 원점을 지나지 않는 직선은 x와 y사이에 linearity 가 존재하지 않음, linear equation이라고 다 linearity를 가지는 것은 아니다. 하지만 변화량에는 선형성이 존재\n",
    "\n",
    "- operation의 linearity : differentiation, integration\n",
    "    - $x_{1}(t), x_{2}(t)$ 에 대한 diff, inte 알아보자 : $\\frac{d}{dt}(a_{1}x_{1}(t)+a_{2}x_{2}(t)) = a_{1}\\frac{d}{dt}x_{1}(t)+a_{2}\\frac{d}{dt}x_{2}(t)$\n",
    "    - integration 해도 마찬가지로 만족된다.\n",
    "    - 미분 적분 linearity 가지기 때문에 매트릭스 폼으로 바꿔서 연산 수행 가능\n",
    "\n",
    "- matrix의 linearity : 행렬 A에 벡터 $x_{1}, x_{2}$을 곱할 때 새로운 형태의 벡터 y가 나오는데\n",
    "    - $A(a_{1}x_{1}+a_{2}x_{2}) = a_{1}Ax_{1} + a_{2}Ax_{2}$\n",
    "\n",
    "\n",
    "### Before getting started : Basic Notations of Matrix\n",
    "- - -\n",
    "\n",
    "Vector v = (a, b, c) \n",
    "\n",
    "\\begin{align}\n",
    "    v &= \\begin{bmatrix}\n",
    "           a \\\\\n",
    "           b\\\\\n",
    "           c\n",
    "         \\end{bmatrix}\n",
    "  \\end{align}\n",
    "    \n",
    "    \n",
    "    "
   ]
  },
  {
   "cell_type": "code",
   "execution_count": null,
   "metadata": {},
   "outputs": [],
   "source": []
  }
 ],
 "metadata": {
  "kernelspec": {
   "display_name": "Python 3",
   "language": "python",
   "name": "python3"
  },
  "language_info": {
   "codemirror_mode": {
    "name": "ipython",
    "version": 3
   },
   "file_extension": ".py",
   "mimetype": "text/x-python",
   "name": "python",
   "nbconvert_exporter": "python",
   "pygments_lexer": "ipython3",
   "version": "3.6.5"
  }
 },
 "nbformat": 4,
 "nbformat_minor": 2
}
