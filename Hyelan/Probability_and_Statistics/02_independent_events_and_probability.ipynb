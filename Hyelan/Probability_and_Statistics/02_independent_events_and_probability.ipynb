{
 "cells": [
  {
   "cell_type": "markdown",
   "metadata": {},
   "source": [
    "### 2강 독립사건과 확률\n",
    "\n",
    "Independent\n",
    "\n",
    "$P(A|B) = P(A),P(B|A) = P(B)$\n",
    "\n",
    "$P(A\\cap B) = P(A)P(B)$"
   ]
  },
  {
   "cell_type": "markdown",
   "metadata": {},
   "source": [
    "### combinational anolysis : 순열 조합 수, 경우의 수\n",
    "\n",
    "1. permutation(순열) : 서로 다른 n개를 1열로 나열 (line arrangement of n different objects)\n",
    "    \n",
    "$\\frac{n!}{(n-r)!}$\n",
    "    \n",
    "2. group permutation (중복이 있는 것의 순열)\n",
    "\n",
    "$\\frac{n!}{n_{1}!n_{2}!...n_{k}!}$\n",
    "\n",
    "3. circular permutation\n",
    "\n",
    "$\\frac{n!}{n}$ 여기에 몇개마다 다른 위치 되는지 곱해주면 된다.\n"
   ]
  },
  {
   "cell_type": "markdown",
   "metadata": {},
   "source": [
    "### combination: 조합\n",
    "\n",
    "select r objects out of n, 순서 상관 없음\n",
    "\n",
    "n개 중 r개를 뽑아내겠다.\n",
    "\n",
    "$_{n}C_{r} = \\frac{_{n}P_{r}}{r!} = \\frac{n!}{(n-r)!r!}$ "
   ]
  },
  {
   "cell_type": "markdown",
   "metadata": {},
   "source": [
    "### binomial Theories : 이항 정리\n",
    "\n",
    "$(a+b)^{n} = A_{0}a^{n} + A_{1}a^{n-1}b^{1} + A_{2}a^{n-2}b^{2} + ... + A_{n}b^{n}$\n",
    "\n",
    "$B(n, P)$ 반복실행시 이항 정리 이용해서 $(n k) p^{k}(1-p)^{n-k}$"
   ]
  },
  {
   "cell_type": "markdown",
   "metadata": {},
   "source": [
    "\n",
    "### Stirling's formula\n",
    "\n",
    "n! 이게 커지면 계산하기 어렵다. 그래서 approximation 사용\n",
    "\n",
    "$\\sqrt{2\\pi n} (\\frac{n}{e})^{n}$\n",
    "\n"
   ]
  },
  {
   "cell_type": "markdown",
   "metadata": {},
   "source": [
    "## Realiablity : 고장나지 않고 잘 동작하는지의 기간 \n",
    "duration of useful functioning of system\n",
    "\n",
    "R(t) : probability that a system will be functioning at time t\n",
    "    \n",
    "R(t) = $R_{1}(t)R_{2}(t)...R_{n}(t)$"
   ]
  }
 ],
 "metadata": {
  "kernelspec": {
   "display_name": "Python 3",
   "language": "python",
   "name": "python3"
  },
  "language_info": {
   "codemirror_mode": {
    "name": "ipython",
    "version": 3
   },
   "file_extension": ".py",
   "mimetype": "text/x-python",
   "name": "python",
   "nbconvert_exporter": "python",
   "pygments_lexer": "ipython3",
   "version": "3.6.5"
  }
 },
 "nbformat": 4,
 "nbformat_minor": 2
}
